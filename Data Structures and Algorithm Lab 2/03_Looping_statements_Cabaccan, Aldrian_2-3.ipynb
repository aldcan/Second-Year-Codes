{
 "cells": [
  {
   "cell_type": "markdown",
   "metadata": {},
   "source": [
    "Lab 2 Exercise 1\n",
    "\n",
    "A teacher named Mrs. Rivera who loved making math fun for her students. One day, a student named Mia asked how to calculate powers, like (2^7). \n",
    "Mrs. Rivera explained, “Imagine you need to multiply 2 by itself seven times. We can solve this using a python code utilizing  special method called recursion to solve this,” \n",
    "\n",
    "Can you help the class of Mrs. Rivera by providing the recursive method to calculate powers?"
   ]
  },
  {
   "cell_type": "code",
   "execution_count": 1,
   "metadata": {},
   "outputs": [
    {
     "name": "stdout",
     "output_type": "stream",
     "text": [
      "128\n"
     ]
    }
   ],
   "source": [
    "def powers(n, e):\n",
    "# Base case for the recursion\n",
    "    if e == 0:\n",
    "        return 1\n",
    "    else:\n",
    "# Handles the recursion starting from the base case.\n",
    "        return (n * powers(n, e - 1))\n",
    "\n",
    "n = int(input(\"Enter a number to raise to an exponent: \"))\n",
    "e = int(input(\"Enter the exponent: \"))\n",
    "print(powers(n, e))    "
   ]
  },
  {
   "cell_type": "markdown",
   "metadata": {},
   "source": [
    "Lab 2 Exercise 2\n",
    "\n",
    "Compute for the cube of integers. \n",
    "\n",
    "Steps:\n",
    "1. Input the size of the array.\n",
    "2. input the elements of the array\n",
    "3. display the cube of each element\n",
    "\n",
    "Sample output\n",
    "\n",
    "Enter the size of the array : 3\n",
    "Enter the elements separated by space: 3 10 20\n",
    "27\n",
    "1000\n",
    "8000"
   ]
  },
  {
   "cell_type": "code",
   "execution_count": 2,
   "metadata": {},
   "outputs": [
    {
     "name": "stdout",
     "output_type": "stream",
     "text": [
      "27\n",
      "1000\n",
      "8000\n"
     ]
    }
   ],
   "source": [
    "def cubed(size, n):\n",
    "# Converts each inputted element of the array into integers.\n",
    "    n = [int(i) for i in n]\n",
    "# Error handling for array not matching the number of elements inputted.\n",
    "    if len(n) != size:\n",
    "        print (\"The number of integers entered does not match the size of the array. \")\n",
    "    else:\n",
    "# Cubes each element in the array.\n",
    "        for i in n:\n",
    "            print(i ** 3)\n",
    "\n",
    "size = int(input(\"Entere the size of the array to be cubed: \"))\n",
    "n = input(\"Enter the integers to cube: \").split()\n",
    "cubed(size, n)"
   ]
  },
  {
   "cell_type": "markdown",
   "metadata": {},
   "source": [
    "Lab 2 Exercise 3\n",
    "\n",
    "Generate a hollow square based on the + integer input side length n."
   ]
  },
  {
   "cell_type": "code",
   "execution_count": 3,
   "metadata": {},
   "outputs": [
    {
     "name": "stdout",
     "output_type": "stream",
     "text": [
      "xxxxxx\n",
      "x    x\n",
      "x    x\n",
      "x    x\n",
      "x    x\n",
      "xxxxxx\n"
     ]
    }
   ],
   "source": [
    "def print_square(n):\n",
    "    for i in range(n):\n",
    "# Prints the top and bottom side of the square.\n",
    "        if i == 0 or i == n - 1:\n",
    "            print (\"x\" * n)\n",
    "# Prints the spaces as well as the left and right side of the square.\n",
    "        else:\n",
    "            print (\"x\" + \" \" * (n - 2) + \"x\")\n",
    "\n",
    "n = int(input(\"Enter the length of the hollow square: \"))\n",
    "print_square(n)\n"
   ]
  },
  {
   "cell_type": "markdown",
   "metadata": {},
   "source": [
    "Lab 2 Exercise 4\n",
    "\n",
    "Generate an inverted right triangle of height n."
   ]
  },
  {
   "cell_type": "code",
   "execution_count": 4,
   "metadata": {},
   "outputs": [
    {
     "name": "stdout",
     "output_type": "stream",
     "text": [
      "******\n",
      "*****\n",
      "****\n",
      "***\n",
      "**\n",
      "*\n"
     ]
    }
   ],
   "source": [
    "def print_triangle(n):\n",
    "    for i in range(n):\n",
    "# Prints the inverted right triangle.\n",
    "        print (\"*\" * (n - i))\n",
    "\n",
    "n = int(input(\"Enter the height of the inverted right triangle: \"))\n",
    "print_triangle(n)"
   ]
  }
 ],
 "metadata": {
  "kernelspec": {
   "display_name": "Python 3",
   "language": "python",
   "name": "python3"
  },
  "language_info": {
   "codemirror_mode": {
    "name": "ipython",
    "version": 3
   },
   "file_extension": ".py",
   "mimetype": "text/x-python",
   "name": "python",
   "nbconvert_exporter": "python",
   "pygments_lexer": "ipython3",
   "version": "3.12.6"
  }
 },
 "nbformat": 4,
 "nbformat_minor": 2
}
